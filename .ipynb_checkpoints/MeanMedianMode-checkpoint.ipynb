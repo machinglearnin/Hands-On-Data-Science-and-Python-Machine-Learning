{
 "cells": [
  {
   "cell_type": "markdown",
   "metadata": {},
   "source": [
    "# Mean, Median, Mode, and introducing NumPy"
   ]
  },
  {
   "cell_type": "markdown",
   "metadata": {},
   "source": [
    "## Mean vs. Median"
   ]
  },
  {
   "cell_type": "markdown",
   "metadata": {},
   "source": [
    "Let's create some fake income data, centered around 27,000 with a normal distribution and standard deviation of 15,000, with 10,000 data points. (We'll discuss those terms more later, if you're not familiar with them.)\n",
    "\n",
    "Then, compute the mean (average) - it should be close to 27,000:"
   ]
  },
  {
   "cell_type": "code",
   "execution_count": 7,
   "metadata": {},
   "outputs": [
    {
     "data": {
      "text/plain": [
       "26948.828041255234"
      ]
     },
     "execution_count": 7,
     "metadata": {},
     "output_type": "execute_result"
    }
   ],
   "source": [
    "import numpy as np\n",
    "\n",
    "incomes = np.random.normal(27000, 15000, 10000)\n",
    "np.mean(incomes)"
   ]
  },
  {
   "cell_type": "markdown",
   "metadata": {},
   "source": [
    "We can segment the income data into 50 buckets, and plot it as a histogram:"
   ]
  },
  {
   "cell_type": "code",
   "execution_count": 8,
   "metadata": {},
   "outputs": [
    {
     "data": {
      "image/png": "[encoded data removed]",
      "text/plain": [
       "<Figure size 432x288 with 1 Axes>"
      ]
     },
     "metadata": {
      "needs_background": "light"
     },
     "output_type": "display_data"
    }
   ],
   "source": [
    "%matplotlib inline\n",
    "import matplotlib.pyplot as plt\n",
    "plt.hist(incomes, 50)\n",
    "plt.show()"
   ]
  },
  {
   "cell_type": "markdown",
   "metadata": {},
   "source": [
    "Now compute the median - since we have a nice, even distribution it too should be close to 27,000:"
   ]
  },
  {
   "cell_type": "code",
   "execution_count": 9,
   "metadata": {},
   "outputs": [
    {
     "data": {
      "text/plain": [
       "26962.311461756595"
      ]
     },
     "execution_count": 9,
     "metadata": {},
     "output_type": "execute_result"
    }
   ],
   "source": [
    "np.median(incomes)"
   ]
  },
  {
   "cell_type": "markdown",
   "metadata": {},
   "source": [
    "Now we'll add Donald Trump into the mix. Darn income inequality!"
   ]
  },
  {
   "cell_type": "code",
   "execution_count": 10,
   "metadata": {},
   "outputs": [],
   "source": [
    "incomes = np.append(incomes, [1000000000])"
   ]
  },
  {
   "cell_type": "markdown",
   "metadata": {},
   "source": [
    "The median won't change much, but the mean does:"
   ]
  },
  {
   "cell_type": "code",
   "execution_count": 11,
   "metadata": {},
   "outputs": [
    {
     "data": {
      "text/plain": [
       "26966.399288287572"
      ]
     },
     "execution_count": 11,
     "metadata": {},
     "output_type": "execute_result"
    }
   ],
   "source": [
    "np.median(incomes)"
   ]
  },
  {
   "cell_type": "code",
   "execution_count": 12,
   "metadata": {},
   "outputs": [
    {
     "data": {
      "text/plain": [
       "126936.13442781246"
      ]
     },
     "execution_count": 12,
     "metadata": {},
     "output_type": "execute_result"
    }
   ],
   "source": [
    "np.mean(incomes)"
   ]
  },
  {
   "cell_type": "markdown",
   "metadata": {},
   "source": [
    "## Mode"
   ]
  },
  {
   "cell_type": "markdown",
   "metadata": {},
   "source": [
    "Next, let's generate some fake age data for 500 people:"
   ]
  },
  {
   "cell_type": "code",
   "execution_count": 17,
   "metadata": {},
   "outputs": [
    {
     "data": {
      "text/plain": [
       "array([25, 60, 38, 37, 44, 86, 65, 54, 50, 62, 68, 58, 69, 78, 59, 58, 79,\n",
       "       48, 68, 54, 57, 58, 41, 34, 84, 86, 38, 50, 52, 52, 38, 32, 45, 61,\n",
       "       88, 55, 49, 81, 65, 18, 50, 70, 36, 54, 74, 33, 88, 29, 45, 45, 44,\n",
       "       81, 52, 74, 86, 59, 69, 60, 30, 74, 20, 38, 42, 26, 22, 76, 20, 75,\n",
       "       32, 30, 79, 84, 56, 63, 36, 23, 47, 40, 39, 84, 82, 43, 55, 35, 53,\n",
       "       31, 38, 49, 18, 83, 30, 32, 84, 42, 33, 29, 80, 26, 25, 51, 51, 80,\n",
       "       24, 37, 65, 58, 43, 74, 46, 60, 23, 26, 75, 81, 49, 50, 76, 61, 71,\n",
       "       27, 51, 65, 33, 66, 69, 27, 53, 39, 41, 21, 25, 49, 77, 77, 66, 41,\n",
       "       66, 73, 38, 54, 83, 18, 29, 20, 57, 82, 74, 19, 54, 61, 21, 63, 37,\n",
       "       37, 33, 74, 18, 52, 72, 36, 76, 49, 59, 29, 30, 65, 20, 43, 70, 76,\n",
       "       27, 79, 68, 89, 60, 35, 73, 21, 68, 22, 50, 48, 22, 71, 23, 27, 53,\n",
       "       25, 85, 81, 50, 24, 53, 35, 58, 73, 40, 51, 40, 76, 66, 67, 87, 39,\n",
       "       71, 38, 82, 68, 41, 37, 52, 70, 34, 87, 44, 30, 18, 65, 83, 23, 48,\n",
       "       40, 81, 71, 23, 31, 78, 73, 23, 65, 38, 76, 56, 19, 21, 63, 80, 65,\n",
       "       25, 35, 38, 59, 64, 28, 34, 24, 50, 87, 33, 86, 89, 62, 66, 50, 80,\n",
       "       49, 33, 64, 46, 62, 46, 88, 48, 25, 50, 65, 18, 23, 26, 34, 67, 46,\n",
       "       47, 50, 85, 77, 33, 42, 84, 51, 24, 34, 73, 74, 68, 63, 82, 69, 48,\n",
       "       64, 43, 61, 46, 49, 45, 24, 85, 87, 79, 27, 25, 62, 50, 43, 21, 21,\n",
       "       34, 52, 57, 46, 75, 57, 21, 77, 54, 41, 23, 36, 53, 20, 23, 29, 32,\n",
       "       25, 27, 83, 51, 22, 48, 56, 71, 40, 45, 74, 71, 73, 55, 53, 59, 46,\n",
       "       44, 52, 21, 60, 65, 63, 81, 22, 34, 44, 54, 61, 54, 29, 53, 41, 49,\n",
       "       18, 23, 86, 71, 46, 66, 76, 51, 38, 48, 33, 49, 74, 51, 42, 31, 18,\n",
       "       33, 25, 39, 31, 24, 53, 25, 28, 77, 34, 77, 57, 62, 47, 30, 47, 86,\n",
       "       62, 54, 49, 62, 51, 87, 76, 75, 82, 63, 88, 83, 83, 57, 49, 28, 69,\n",
       "       86, 85, 78, 38, 82, 34, 53, 56, 28, 41, 48, 79, 29, 76, 34, 58, 53,\n",
       "       22, 21, 76, 37, 49, 67, 41, 72, 48, 72, 50, 52, 66, 46, 73, 63, 37,\n",
       "       25, 69, 54, 77, 57, 35, 55, 23, 88, 81, 83, 20, 89, 66, 85, 25, 76,\n",
       "       60, 38, 89, 27, 48, 58, 73, 61, 30, 48, 32, 49, 69, 60, 32, 84, 37,\n",
       "       25, 69, 44, 70, 39, 61, 38, 86, 35, 40, 31, 20, 62, 48, 76, 29, 88,\n",
       "       64, 49, 27, 74, 30, 84, 60])"
      ]
     },
     "execution_count": 17,
     "metadata": {},
     "output_type": "execute_result"
    }
   ],
   "source": [
    "ages = np.random.randint(18, high=90, size=500)\n",
    "ages"
   ]
  },
  {
   "cell_type": "code",
   "execution_count": 18,
   "metadata": {},
   "outputs": [
    {
     "data": {
      "text/plain": [
       "ModeResult(mode=array([49]), count=array([14]))"
      ]
     },
     "execution_count": 18,
     "metadata": {},
     "output_type": "execute_result"
    }
   ],
   "source": [
    "from scipy import stats\n",
    "stats.mode(ages)"
   ]
  },
  {
   "cell_type": "code",
   "execution_count": null,
   "metadata": {},
   "outputs": [],
   "source": []
  }
 ],
 "metadata": {
  "kernelspec": {
   "display_name": "Python 3",
   "language": "python",
   "name": "python3"
  },
  "language_info": {
   "codemirror_mode": {
    "name": "ipython",
    "version": 3
   },
   "file_extension": ".py",
   "mimetype": "text/x-python",
   "name": "python",
   "nbconvert_exporter": "python",
   "pygments_lexer": "ipython3",
   "version": "3.7.4"
  }
 },
 "nbformat": 4,
 "nbformat_minor": 1
}
